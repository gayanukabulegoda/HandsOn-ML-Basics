{
 "cells": [
  {
   "cell_type": "code",
   "execution_count": 3,
   "id": "14693b35",
   "metadata": {},
   "outputs": [
    {
     "name": "stdout",
     "output_type": "stream",
     "text": [
      "DataFrame:\n",
      "   X   y\n",
      "0  1   2\n",
      "1  2   4\n",
      "2  3   6\n",
      "3  4   7\n",
      "4  5  10\n"
     ]
    }
   ],
   "source": [
    "import pandas as pd\n",
    "from sklearn.linear_model import LinearRegression\n",
    "\n",
    "data = { \n",
    "    'X': [1, 2, 3, 4, 5],\n",
    "    'y': [2, 4, 6, 7, 10] \n",
    "}\n",
    "\n",
    "df = pd.DataFrame(data)\n",
    "print(\"DataFrame:\")\n",
    "print(df)\n"
   ]
  },
  {
   "cell_type": "code",
   "execution_count": null,
   "id": "fc28e1d4",
   "metadata": {},
   "outputs": [
    {
     "name": "stdout",
     "output_type": "stream",
     "text": [
      "\n",
      "Independent variable (X):\n",
      "   X\n",
      "0  1\n",
      "1  2\n",
      "2  3\n",
      "3  4\n",
      "4  5\n",
      "<class 'pandas.core.frame.DataFrame'>\n",
      "\n",
      "Dependent variable (y):\n",
      "0     2\n",
      "1     4\n",
      "2     6\n",
      "3     7\n",
      "4    10\n",
      "Name: y, dtype: int64\n",
      "<class 'pandas.core.series.Series'>\n"
     ]
    }
   ],
   "source": [
    "x = df[['X']]\n",
    "y = df['y']\n",
    "\n",
    "print(\"\\nIndependent variable (X):\")\n",
    "print(x)\n",
    "print(type(x))\n",
    "\n",
    "print(\"\\nDependent variable (y):\")\n",
    "print(y)\n",
    "print(type(y))\n",
    "\n",
    "# in linear regression, x should be a 2D array, so we keep it as is\n",
    "# in linear regression, we need to reshape y to be a 2D array"
   ]
  },
  {
   "cell_type": "code",
   "execution_count": 5,
   "id": "706bdfd3",
   "metadata": {},
   "outputs": [
    {
     "name": "stdout",
     "output_type": "stream",
     "text": [
      "Model Intercept: 0.09999999999999876\n",
      "Model Slope: 1.9000000000000004\n",
      "Model Coefficients: [1.9]\n"
     ]
    }
   ],
   "source": [
    "# Create and fit the model\n",
    "\n",
    "model = LinearRegression() # assuming we want to use Linear Regression (y = mx + c)\n",
    "model.fit(x, y) # Training the model\n",
    "\n",
    "print(\"Model Intercept:\", model.intercept_)\n",
    "print(\"Model Slope:\", model.coef_[0])\n",
    "print(\"Model Coefficients:\", model.coef_)"
   ]
  },
  {
   "cell_type": "code",
   "execution_count": null,
   "id": "458c2b89",
   "metadata": {},
   "outputs": [
    {
     "name": "stdout",
     "output_type": "stream",
     "text": [
      "\n",
      "Predicted y for x = 7: 13.400000000000002\n"
     ]
    },
    {
     "name": "stderr",
     "output_type": "stream",
     "text": [
      "C:\\Users\\GRB\\AppData\\Roaming\\Python\\Python312\\site-packages\\sklearn\\utils\\validation.py:2749: UserWarning: X does not have valid feature names, but LinearRegression was fitted with feature names\n",
      "  warnings.warn(\n"
     ]
    }
   ],
   "source": [
    "# Predict y for a new x value\n",
    "new_x = [[7]]  # New x value as a 2D array (need to pass 2D array for prediction)\n",
    "predicted_y = model.predict(new_x)\n",
    "print(\"\\nPredicted y for x = 7:\", predicted_y[0])"
   ]
  }
 ],
 "metadata": {
  "kernelspec": {
   "display_name": "Python 3",
   "language": "python",
   "name": "python3"
  },
  "language_info": {
   "codemirror_mode": {
    "name": "ipython",
    "version": 3
   },
   "file_extension": ".py",
   "mimetype": "text/x-python",
   "name": "python",
   "nbconvert_exporter": "python",
   "pygments_lexer": "ipython3",
   "version": "3.12.6"
  }
 },
 "nbformat": 4,
 "nbformat_minor": 5
}
